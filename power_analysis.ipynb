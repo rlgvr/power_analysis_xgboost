{
 "cells": [
  {
   "cell_type": "code",
   "execution_count": 3,
   "id": "9eeaa1ed",
   "metadata": {},
   "outputs": [],
   "source": [
    "import math "
   ]
  },
  {
   "cell_type": "code",
   "execution_count": 13,
   "id": "f3a62c42",
   "metadata": {},
   "outputs": [
    {
     "data": {
      "text/plain": [
       "28"
      ]
     },
     "execution_count": 13,
     "metadata": {},
     "output_type": "execute_result"
    }
   ],
   "source": [
    "def calculate_sample_size(alpha, power, effect_size, n_binary, n_cat, n_cont):\n",
    "    \"\"\"\n",
    "    Calculate the sample size needed for a given significance level, power, effect size, and number of binary, categorical and continuous predictors.\n",
    "    Parameters:\n",
    "        alpha (float): The significance level for the hypothesis test, typically 0.05.\n",
    "        power (float): The desired statistical power for the hypothesis test, typically 0.8 or 0.9.\n",
    "        effect_size (float): the expected effect size of the predictor, estimated in previous studies.\n",
    "        n_binary (int): the number of binary predictors.\n",
    "        n_cat (int): the number of categorical predictors.\n",
    "        n_cont (int): the number of continuous predictors.\n",
    "    Returns:\n",
    "        n_total (int): the total sample size needed to achieve the desired performance in terms of accuracy.\n",
    "    \"\"\"\n",
    "    \n",
    "    # Calculate the Z-values for the desired significance level and power (Cumulative Distribution Function)\n",
    "    z_alpha = abs(math.erf(-1 * alpha / math.sqrt(2))) ## abs to obtain positive value\n",
    "    z_power = abs(math.erf(power / math.sqrt(2)) - math.erf(-1 * power / math.sqrt(2)))\n",
    "    \n",
    "    # Calculate the required sample size for a single predictor variable \n",
    "    n_base = math.ceil((z_alpha + z_power)**2 / effect_size**2) ## use ceil to round up value to nearest integer \n",
    "    \n",
    "    # Adjust the sample size for the number of binary, categorical and continuous predictors \n",
    "    n_adjusted = n_base / (n_binary + n_cat + n_cont +1)\n",
    "    \n",
    "    ## Round up to nearest integer and return sample size \n",
    "    n_total = math.ceil(n_adjusted * (n_binary + n_cat + n_cont +1))\n",
    "    \n",
    "    return n_total \n",
    "\n",
    "\n",
    "## Set desired significance level and power\n",
    "alpha = 0.05 \n",
    "power = 0.8\n",
    "\n",
    "## estimate effect size based on previous studies \n",
    "effect_size = 0.656853 ## feature importance \n",
    "\n",
    "## set number of binary, categorical and continuous predictors\n",
    "n_binary = 10\n",
    "n_cat = 4\n",
    "n_cont = 0\n",
    "\n",
    "## Adjust the effect size for the number of variables using Cohen's f-squared\n",
    "f_squared = effect_size**2 / (1 - effect_size**2)\n",
    "f_squared_adj = f_squared / (n_binary + n_cat + n_cont + f_squared)\n",
    "\n",
    "## Calculate the required sample size using the adjusted effect size \n",
    "n_total = calculate_sample_size(alpha, power, math.sqrt(f_squared_adj), n_binary, n_cat, n_cont)\n",
    "n_total"
   ]
  },
  {
   "cell_type": "code",
   "execution_count": null,
   "id": "7dac7c01",
   "metadata": {},
   "outputs": [],
   "source": []
  }
 ],
 "metadata": {
  "kernelspec": {
   "display_name": "Python 3",
   "language": "python",
   "name": "python3"
  },
  "language_info": {
   "codemirror_mode": {
    "name": "ipython",
    "version": 3
   },
   "file_extension": ".py",
   "mimetype": "text/x-python",
   "name": "python",
   "nbconvert_exporter": "python",
   "pygments_lexer": "ipython3",
   "version": "3.6.13"
  }
 },
 "nbformat": 4,
 "nbformat_minor": 5
}
